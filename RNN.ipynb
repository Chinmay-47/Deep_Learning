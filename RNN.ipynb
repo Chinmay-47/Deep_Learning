{
  "nbformat": 4,
  "nbformat_minor": 0,
  "metadata": {
    "colab": {
      "name": "RNN.ipynb",
      "provenance": [],
      "collapsed_sections": [],
      "authorship_tag": "ABX9TyNQGxfcrUcGP2EpeH9NZPMe",
      "include_colab_link": true
    },
    "kernelspec": {
      "name": "python3",
      "display_name": "Python 3"
    },
    "accelerator": "TPU"
  },
  "cells": [
    {
      "cell_type": "markdown",
      "metadata": {
        "id": "view-in-github",
        "colab_type": "text"
      },
      "source": [
        "<a href=\"https://colab.research.google.com/github/Chinmay-47/Deep_Learning/blob/master/RNN.ipynb\" target=\"_parent\"><img src=\"https://colab.research.google.com/assets/colab-badge.svg\" alt=\"Open In Colab\"/></a>"
      ]
    },
    {
      "cell_type": "code",
      "metadata": {
        "id": "wbI3hbuFCbXE",
        "colab_type": "code",
        "colab": {}
      },
      "source": [
        "import numpy as np\n",
        "import matplotlib.pyplot as plt\n",
        "import pandas as pd"
      ],
      "execution_count": 36,
      "outputs": []
    },
    {
      "cell_type": "code",
      "metadata": {
        "id": "yZIe2yqNEIuL",
        "colab_type": "code",
        "colab": {}
      },
      "source": [
        "dataset_train = pd.read_csv('Google_Stock_Price_Train.csv')\n",
        "training_set = dataset_train.iloc[:,1:2].values"
      ],
      "execution_count": 37,
      "outputs": []
    },
    {
      "cell_type": "code",
      "metadata": {
        "id": "lMia7yMIETKS",
        "colab_type": "code",
        "colab": {}
      },
      "source": [
        "from sklearn.preprocessing import MinMaxScaler\n",
        "sc = MinMaxScaler(feature_range = (0, 1))\n",
        "training_set_scaled = sc.fit_transform(training_set)\n",
        "# print(len(training_set_scaled))"
      ],
      "execution_count": 38,
      "outputs": []
    },
    {
      "cell_type": "code",
      "metadata": {
        "id": "HkicMnwqFEOx",
        "colab_type": "code",
        "colab": {}
      },
      "source": [
        "X_train = []\n",
        "Y_train = []\n",
        "for i in range(60,1258):\n",
        "    X_train.append(training_set_scaled[i-60:i,0])\n",
        "    Y_train.append(training_set_scaled[i,0])\n",
        "X_train, Y_train = np.array(X_train), np.array(Y_train)"
      ],
      "execution_count": 39,
      "outputs": []
    },
    {
      "cell_type": "code",
      "metadata": {
        "id": "I_281M8DI6Kv",
        "colab_type": "code",
        "colab": {}
      },
      "source": [
        "X_train = np.reshape(X_train, (X_train.shape[0],X_train.shape[1],1))"
      ],
      "execution_count": 40,
      "outputs": []
    },
    {
      "cell_type": "code",
      "metadata": {
        "id": "7B7RyflbI9ej",
        "colab_type": "code",
        "colab": {}
      },
      "source": [
        "from keras.models import Sequential\n",
        "from keras.layers import Dense\n",
        "from keras.layers import LSTM\n",
        "from keras.layers import Dropout\n",
        "from keras.layers import Bidirectional"
      ],
      "execution_count": 41,
      "outputs": []
    },
    {
      "cell_type": "code",
      "metadata": {
        "id": "4lX3GHT0EI5I",
        "colab_type": "code",
        "colab": {}
      },
      "source": [
        "model = Sequential()"
      ],
      "execution_count": 42,
      "outputs": []
    },
    {
      "cell_type": "code",
      "metadata": {
        "id": "4IFNUUlsMEji",
        "colab_type": "code",
        "colab": {}
      },
      "source": [
        "model.add(LSTM(units = 50, return_sequences = True, input_shape = (X_train.shape[1],1)))\n",
        "model.add(Dropout(0.2))"
      ],
      "execution_count": 43,
      "outputs": []
    },
    {
      "cell_type": "code",
      "metadata": {
        "id": "NkuM-hbIMLsF",
        "colab_type": "code",
        "colab": {}
      },
      "source": [
        "model.add(LSTM(units = 50, return_sequences = True))\n",
        "model.add(Dropout(0.2))"
      ],
      "execution_count": 44,
      "outputs": []
    },
    {
      "cell_type": "code",
      "metadata": {
        "id": "DykGSY7GMxs3",
        "colab_type": "code",
        "colab": {}
      },
      "source": [
        "model.add(LSTM(units = 50, return_sequences = True))\n",
        "model.add(Dropout(0.2))"
      ],
      "execution_count": 45,
      "outputs": []
    },
    {
      "cell_type": "code",
      "metadata": {
        "id": "9zskNKMxMEqH",
        "colab_type": "code",
        "colab": {}
      },
      "source": [
        "model.add(LSTM(units = 50))\n",
        "model.add(Dropout(0.2))"
      ],
      "execution_count": 46,
      "outputs": []
    },
    {
      "cell_type": "code",
      "metadata": {
        "id": "V22DqBjwPfJ0",
        "colab_type": "code",
        "colab": {}
      },
      "source": [
        "model.add(Dense(units = 1))"
      ],
      "execution_count": 47,
      "outputs": []
    },
    {
      "cell_type": "code",
      "metadata": {
        "id": "bsnbNJdxQkcR",
        "colab_type": "code",
        "colab": {
          "base_uri": "https://localhost:8080/",
          "height": 459
        },
        "outputId": "3164c2b7-e610-4ce8-b4b3-f8efb9be4070"
      },
      "source": [
        "model.summary()"
      ],
      "execution_count": 48,
      "outputs": [
        {
          "output_type": "stream",
          "text": [
            "Model: \"sequential_3\"\n",
            "_________________________________________________________________\n",
            "Layer (type)                 Output Shape              Param #   \n",
            "=================================================================\n",
            "lstm_9 (LSTM)                (None, 60, 50)            10400     \n",
            "_________________________________________________________________\n",
            "dropout_9 (Dropout)          (None, 60, 50)            0         \n",
            "_________________________________________________________________\n",
            "lstm_10 (LSTM)               (None, 60, 50)            20200     \n",
            "_________________________________________________________________\n",
            "dropout_10 (Dropout)         (None, 60, 50)            0         \n",
            "_________________________________________________________________\n",
            "lstm_11 (LSTM)               (None, 60, 50)            20200     \n",
            "_________________________________________________________________\n",
            "dropout_11 (Dropout)         (None, 60, 50)            0         \n",
            "_________________________________________________________________\n",
            "lstm_12 (LSTM)               (None, 50)                20200     \n",
            "_________________________________________________________________\n",
            "dropout_12 (Dropout)         (None, 50)                0         \n",
            "_________________________________________________________________\n",
            "dense_3 (Dense)              (None, 1)                 51        \n",
            "=================================================================\n",
            "Total params: 71,051\n",
            "Trainable params: 71,051\n",
            "Non-trainable params: 0\n",
            "_________________________________________________________________\n"
          ],
          "name": "stdout"
        }
      ]
    },
    {
      "cell_type": "code",
      "metadata": {
        "id": "NTHK5n2DPnq5",
        "colab_type": "code",
        "colab": {}
      },
      "source": [
        "model.compile(optimizer = 'adam', loss = 'mean_squared_error')"
      ],
      "execution_count": 49,
      "outputs": []
    },
    {
      "cell_type": "code",
      "metadata": {
        "id": "ogFDliQWPn0Q",
        "colab_type": "code",
        "colab": {
          "base_uri": "https://localhost:8080/",
          "height": 1000
        },
        "outputId": "3263f741-7b72-4a7c-e3d9-8404357c804e"
      },
      "source": [
        "model.fit(X_train, Y_train, epochs = 100, batch_size = 32)"
      ],
      "execution_count": 50,
      "outputs": [
        {
          "output_type": "stream",
          "text": [
            "Epoch 1/100\n",
            "1198/1198 [==============================] - 5s 5ms/step - loss: 0.0484\n",
            "Epoch 2/100\n",
            "1198/1198 [==============================] - 4s 3ms/step - loss: 0.0084\n",
            "Epoch 3/100\n",
            "1198/1198 [==============================] - 4s 4ms/step - loss: 0.0065\n",
            "Epoch 4/100\n",
            "1198/1198 [==============================] - 4s 4ms/step - loss: 0.0066\n",
            "Epoch 5/100\n",
            "1198/1198 [==============================] - 4s 4ms/step - loss: 0.0055\n",
            "Epoch 6/100\n",
            "1198/1198 [==============================] - 4s 4ms/step - loss: 0.0054\n",
            "Epoch 7/100\n",
            "1198/1198 [==============================] - 4s 4ms/step - loss: 0.0053\n",
            "Epoch 8/100\n",
            "1198/1198 [==============================] - 4s 4ms/step - loss: 0.0042\n",
            "Epoch 9/100\n",
            "1198/1198 [==============================] - 4s 4ms/step - loss: 0.0044\n",
            "Epoch 10/100\n",
            "1198/1198 [==============================] - 4s 4ms/step - loss: 0.0046\n",
            "Epoch 11/100\n",
            "1198/1198 [==============================] - 4s 4ms/step - loss: 0.0040\n",
            "Epoch 12/100\n",
            "1198/1198 [==============================] - 4s 4ms/step - loss: 0.0046\n",
            "Epoch 13/100\n",
            "1198/1198 [==============================] - 4s 4ms/step - loss: 0.0046\n",
            "Epoch 14/100\n",
            "1198/1198 [==============================] - 4s 4ms/step - loss: 0.0041\n",
            "Epoch 15/100\n",
            "1198/1198 [==============================] - 4s 4ms/step - loss: 0.0040\n",
            "Epoch 16/100\n",
            "1198/1198 [==============================] - 4s 4ms/step - loss: 0.0037\n",
            "Epoch 17/100\n",
            "1198/1198 [==============================] - 4s 4ms/step - loss: 0.0038\n",
            "Epoch 18/100\n",
            "1198/1198 [==============================] - 4s 4ms/step - loss: 0.0036\n",
            "Epoch 19/100\n",
            "1198/1198 [==============================] - 4s 4ms/step - loss: 0.0036\n",
            "Epoch 20/100\n",
            "1198/1198 [==============================] - 4s 4ms/step - loss: 0.0035\n",
            "Epoch 21/100\n",
            "1198/1198 [==============================] - 4s 4ms/step - loss: 0.0033\n",
            "Epoch 22/100\n",
            "1198/1198 [==============================] - 4s 4ms/step - loss: 0.0032\n",
            "Epoch 23/100\n",
            "1198/1198 [==============================] - 4s 4ms/step - loss: 0.0035\n",
            "Epoch 24/100\n",
            "1198/1198 [==============================] - 4s 4ms/step - loss: 0.0034\n",
            "Epoch 25/100\n",
            "1198/1198 [==============================] - 4s 4ms/step - loss: 0.0034\n",
            "Epoch 26/100\n",
            "1198/1198 [==============================] - 4s 4ms/step - loss: 0.0033\n",
            "Epoch 27/100\n",
            "1198/1198 [==============================] - 4s 4ms/step - loss: 0.0031\n",
            "Epoch 28/100\n",
            "1198/1198 [==============================] - 4s 4ms/step - loss: 0.0030\n",
            "Epoch 29/100\n",
            "1198/1198 [==============================] - 4s 4ms/step - loss: 0.0029\n",
            "Epoch 30/100\n",
            "1198/1198 [==============================] - 4s 4ms/step - loss: 0.0031\n",
            "Epoch 31/100\n",
            "1198/1198 [==============================] - 4s 4ms/step - loss: 0.0033\n",
            "Epoch 32/100\n",
            "1198/1198 [==============================] - 4s 4ms/step - loss: 0.0028\n",
            "Epoch 33/100\n",
            "1198/1198 [==============================] - 4s 4ms/step - loss: 0.0031\n",
            "Epoch 34/100\n",
            "1198/1198 [==============================] - 4s 4ms/step - loss: 0.0033\n",
            "Epoch 35/100\n",
            "1198/1198 [==============================] - 4s 4ms/step - loss: 0.0026\n",
            "Epoch 36/100\n",
            "1198/1198 [==============================] - 4s 4ms/step - loss: 0.0027\n",
            "Epoch 37/100\n",
            "1198/1198 [==============================] - 4s 4ms/step - loss: 0.0025\n",
            "Epoch 38/100\n",
            "1198/1198 [==============================] - 4s 4ms/step - loss: 0.0025\n",
            "Epoch 39/100\n",
            "1198/1198 [==============================] - 4s 4ms/step - loss: 0.0026\n",
            "Epoch 40/100\n",
            "1198/1198 [==============================] - 4s 4ms/step - loss: 0.0029\n",
            "Epoch 41/100\n",
            "1198/1198 [==============================] - 4s 4ms/step - loss: 0.0025\n",
            "Epoch 42/100\n",
            "1198/1198 [==============================] - 4s 4ms/step - loss: 0.0026\n",
            "Epoch 43/100\n",
            "1198/1198 [==============================] - 4s 4ms/step - loss: 0.0029\n",
            "Epoch 44/100\n",
            "1198/1198 [==============================] - 4s 4ms/step - loss: 0.0025\n",
            "Epoch 45/100\n",
            "1198/1198 [==============================] - 4s 4ms/step - loss: 0.0029\n",
            "Epoch 46/100\n",
            "1198/1198 [==============================] - 4s 4ms/step - loss: 0.0027\n",
            "Epoch 47/100\n",
            "1198/1198 [==============================] - 4s 4ms/step - loss: 0.0025\n",
            "Epoch 48/100\n",
            "1198/1198 [==============================] - 4s 4ms/step - loss: 0.0024\n",
            "Epoch 49/100\n",
            "1198/1198 [==============================] - 4s 4ms/step - loss: 0.0027\n",
            "Epoch 50/100\n",
            "1198/1198 [==============================] - 4s 4ms/step - loss: 0.0025\n",
            "Epoch 51/100\n",
            "1198/1198 [==============================] - 4s 4ms/step - loss: 0.0026\n",
            "Epoch 52/100\n",
            "1198/1198 [==============================] - 4s 4ms/step - loss: 0.0029\n",
            "Epoch 53/100\n",
            "1198/1198 [==============================] - 4s 4ms/step - loss: 0.0027\n",
            "Epoch 54/100\n",
            "1198/1198 [==============================] - 4s 4ms/step - loss: 0.0022\n",
            "Epoch 55/100\n",
            "1198/1198 [==============================] - 4s 4ms/step - loss: 0.0022\n",
            "Epoch 56/100\n",
            "1198/1198 [==============================] - 4s 4ms/step - loss: 0.0027\n",
            "Epoch 57/100\n",
            "1198/1198 [==============================] - 4s 4ms/step - loss: 0.0023\n",
            "Epoch 58/100\n",
            "1198/1198 [==============================] - 4s 4ms/step - loss: 0.0021\n",
            "Epoch 59/100\n",
            "1198/1198 [==============================] - 4s 4ms/step - loss: 0.0020\n",
            "Epoch 60/100\n",
            "1198/1198 [==============================] - 4s 4ms/step - loss: 0.0021\n",
            "Epoch 61/100\n",
            "1198/1198 [==============================] - 4s 4ms/step - loss: 0.0020\n",
            "Epoch 62/100\n",
            "1198/1198 [==============================] - 4s 4ms/step - loss: 0.0019\n",
            "Epoch 63/100\n",
            "1198/1198 [==============================] - 4s 4ms/step - loss: 0.0019\n",
            "Epoch 64/100\n",
            "1198/1198 [==============================] - 4s 4ms/step - loss: 0.0021\n",
            "Epoch 65/100\n",
            "1198/1198 [==============================] - 4s 4ms/step - loss: 0.0019\n",
            "Epoch 66/100\n",
            "1198/1198 [==============================] - 4s 4ms/step - loss: 0.0020\n",
            "Epoch 67/100\n",
            "1198/1198 [==============================] - 4s 4ms/step - loss: 0.0018\n",
            "Epoch 68/100\n",
            "1198/1198 [==============================] - 4s 4ms/step - loss: 0.0020\n",
            "Epoch 69/100\n",
            "1198/1198 [==============================] - 4s 4ms/step - loss: 0.0020\n",
            "Epoch 70/100\n",
            "1198/1198 [==============================] - 4s 4ms/step - loss: 0.0019\n",
            "Epoch 71/100\n",
            "1198/1198 [==============================] - 4s 4ms/step - loss: 0.0021\n",
            "Epoch 72/100\n",
            "1198/1198 [==============================] - 4s 4ms/step - loss: 0.0019\n",
            "Epoch 73/100\n",
            "1198/1198 [==============================] - 4s 4ms/step - loss: 0.0019\n",
            "Epoch 74/100\n",
            "1198/1198 [==============================] - 4s 4ms/step - loss: 0.0018\n",
            "Epoch 75/100\n",
            "1198/1198 [==============================] - 4s 4ms/step - loss: 0.0016\n",
            "Epoch 76/100\n",
            "1198/1198 [==============================] - 4s 4ms/step - loss: 0.0017\n",
            "Epoch 77/100\n",
            "1198/1198 [==============================] - 4s 4ms/step - loss: 0.0018\n",
            "Epoch 78/100\n",
            "1198/1198 [==============================] - 4s 4ms/step - loss: 0.0017\n",
            "Epoch 79/100\n",
            "1198/1198 [==============================] - 4s 4ms/step - loss: 0.0015\n",
            "Epoch 80/100\n",
            "1198/1198 [==============================] - 4s 4ms/step - loss: 0.0018\n",
            "Epoch 81/100\n",
            "1198/1198 [==============================] - 4s 4ms/step - loss: 0.0017\n",
            "Epoch 82/100\n",
            "1198/1198 [==============================] - 4s 4ms/step - loss: 0.0016\n",
            "Epoch 83/100\n",
            "1198/1198 [==============================] - 4s 4ms/step - loss: 0.0016\n",
            "Epoch 84/100\n",
            "1198/1198 [==============================] - 6s 5ms/step - loss: 0.0017\n",
            "Epoch 85/100\n",
            "1198/1198 [==============================] - 5s 4ms/step - loss: 0.0014\n",
            "Epoch 86/100\n",
            "1198/1198 [==============================] - 4s 4ms/step - loss: 0.0016\n",
            "Epoch 87/100\n",
            "1198/1198 [==============================] - 4s 4ms/step - loss: 0.0016\n",
            "Epoch 88/100\n",
            "1198/1198 [==============================] - 4s 4ms/step - loss: 0.0015\n",
            "Epoch 89/100\n",
            "1198/1198 [==============================] - 4s 4ms/step - loss: 0.0019\n",
            "Epoch 90/100\n",
            "1198/1198 [==============================] - 4s 4ms/step - loss: 0.0017\n",
            "Epoch 91/100\n",
            "1198/1198 [==============================] - 4s 4ms/step - loss: 0.0016\n",
            "Epoch 92/100\n",
            "1198/1198 [==============================] - 4s 4ms/step - loss: 0.0015\n",
            "Epoch 93/100\n",
            "1198/1198 [==============================] - 5s 4ms/step - loss: 0.0016\n",
            "Epoch 94/100\n",
            "1198/1198 [==============================] - 5s 4ms/step - loss: 0.0018\n",
            "Epoch 95/100\n",
            "1198/1198 [==============================] - 5s 4ms/step - loss: 0.0017\n",
            "Epoch 96/100\n",
            "1198/1198 [==============================] - 5s 4ms/step - loss: 0.0017\n",
            "Epoch 97/100\n",
            "1198/1198 [==============================] - 5s 4ms/step - loss: 0.0015\n",
            "Epoch 98/100\n",
            "1198/1198 [==============================] - 5s 4ms/step - loss: 0.0014\n",
            "Epoch 99/100\n",
            "1198/1198 [==============================] - 5s 4ms/step - loss: 0.0015\n",
            "Epoch 100/100\n",
            "1198/1198 [==============================] - 5s 4ms/step - loss: 0.0016\n"
          ],
          "name": "stdout"
        },
        {
          "output_type": "execute_result",
          "data": {
            "text/plain": [
              "<keras.callbacks.callbacks.History at 0x7fdfcd7d5da0>"
            ]
          },
          "metadata": {
            "tags": []
          },
          "execution_count": 50
        }
      ]
    },
    {
      "cell_type": "code",
      "metadata": {
        "id": "Pl4tbHX2PoHR",
        "colab_type": "code",
        "colab": {}
      },
      "source": [
        "dataset_test = pd.read_csv('Google_Stock_Price_Test.csv')\n",
        "real_stock_price = dataset_test.iloc[:, 1:2].values"
      ],
      "execution_count": 51,
      "outputs": []
    },
    {
      "cell_type": "code",
      "metadata": {
        "id": "K4CJCI4KP1yk",
        "colab_type": "code",
        "colab": {}
      },
      "source": [
        "dataset_total = pd.concat((dataset_train['Open'], dataset_test['Open']), axis = 0)\n",
        "inputs = dataset_total[len(dataset_total) - len(dataset_test) - 60:].values\n",
        "inputs = inputs.reshape(-1,1)\n",
        "inputs = sc.transform(inputs)\n",
        "X_test = []\n",
        "for i in range(60, 80):\n",
        "    X_test.append(inputs[i-60:i, 0])\n",
        "X_test = np.array(X_test)\n",
        "X_test = np.reshape(X_test, (X_test.shape[0], X_test.shape[1], 1))\n",
        "predicted_stock_price = model.predict(X_test)\n",
        "predicted_stock_price = sc.inverse_transform(predicted_stock_price)"
      ],
      "execution_count": 52,
      "outputs": []
    },
    {
      "cell_type": "code",
      "metadata": {
        "id": "1gawk6YpP15l",
        "colab_type": "code",
        "colab": {
          "base_uri": "https://localhost:8080/",
          "height": 295
        },
        "outputId": "e92b22ae-7909-4a2a-ab2f-8f0385f0043a"
      },
      "source": [
        "plt.plot(real_stock_price, color = 'red', label = 'Real Google Stock Price')\n",
        "plt.plot(predicted_stock_price, color = 'blue', label = 'Predicted Google Stock Price')\n",
        "plt.title('Google Stock Price Prediction')\n",
        "plt.xlabel('Time')\n",
        "plt.ylabel('Google Stock Price')\n",
        "plt.legend()\n",
        "plt.show()"
      ],
      "execution_count": 53,
      "outputs": [
        {
          "output_type": "display_data",
          "data": {
            "image/png": "[encoded data removed]",
            "text/plain": [
              "<Figure size 432x288 with 1 Axes>"
            ]
          },
          "metadata": {
            "tags": [],
            "needs_background": "light"
          }
        }
      ]
    },
    {
      "cell_type": "code",
      "metadata": {
        "id": "L_Crg7i2QBsl",
        "colab_type": "code",
        "colab": {}
      },
      "source": [
        ""
      ],
      "execution_count": 53,
      "outputs": []
    }
  ]
}