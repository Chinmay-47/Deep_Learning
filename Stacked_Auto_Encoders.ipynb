{
  "nbformat": 4,
  "nbformat_minor": 0,
  "metadata": {
    "colab": {
      "name": "Stacked_Auto_Encoders.ipynb",
      "provenance": [],
      "authorship_tag": "ABX9TyPpIXCkYzfsSDIz4kln7zzT",
      "include_colab_link": true
    },
    "kernelspec": {
      "name": "python3",
      "display_name": "Python 3"
    },
    "accelerator": "TPU"
  },
  "cells": [
    {
      "cell_type": "markdown",
      "metadata": {
        "id": "view-in-github",
        "colab_type": "text"
      },
      "source": [
        "<a href=\"https://colab.research.google.com/github/Chinmay-47/Deep_Learning/blob/master/Stacked_Auto_Encoders.ipynb\" target=\"_parent\"><img src=\"https://colab.research.google.com/assets/colab-badge.svg\" alt=\"Open In Colab\"/></a>"
      ]
    },
    {
      "cell_type": "code",
      "metadata": {
        "id": "yUnGIUyfuzbW",
        "colab_type": "code",
        "colab": {
          "base_uri": "https://localhost:8080/",
          "height": 666
        },
        "outputId": "365a8f0b-37a1-4e89-f6fa-7f647af2cedf"
      },
      "source": [
        "!wget \"http://files.grouplens.org/datasets/movielens/ml-100k.zip\"\n",
        "!unzip ml-100k.zip\n",
        "!ls"
      ],
      "execution_count": 1,
      "outputs": [
        {
          "output_type": "stream",
          "text": [
            "--2020-08-09 10:21:17--  http://files.grouplens.org/datasets/movielens/ml-100k.zip\n",
            "Resolving files.grouplens.org (files.grouplens.org)... 128.101.65.152\n",
            "Connecting to files.grouplens.org (files.grouplens.org)|128.101.65.152|:80... connected.\n",
            "HTTP request sent, awaiting response... 200 OK\n",
            "Length: 4924029 (4.7M) [application/zip]\n",
            "Saving to: ‘ml-100k.zip’\n",
            "\n",
            "\rml-100k.zip           0%[                    ]       0  --.-KB/s               \rml-100k.zip         100%[===================>]   4.70M  27.0MB/s    in 0.2s    \n",
            "\n",
            "2020-08-09 10:21:18 (27.0 MB/s) - ‘ml-100k.zip’ saved [4924029/4924029]\n",
            "\n",
            "Archive:  ml-100k.zip\n",
            "   creating: ml-100k/\n",
            "  inflating: ml-100k/allbut.pl       \n",
            "  inflating: ml-100k/mku.sh          \n",
            "  inflating: ml-100k/README          \n",
            "  inflating: ml-100k/u.data          \n",
            "  inflating: ml-100k/u.genre         \n",
            "  inflating: ml-100k/u.info          \n",
            "  inflating: ml-100k/u.item          \n",
            "  inflating: ml-100k/u.occupation    \n",
            "  inflating: ml-100k/u.user          \n",
            "  inflating: ml-100k/u1.base         \n",
            "  inflating: ml-100k/u1.test         \n",
            "  inflating: ml-100k/u2.base         \n",
            "  inflating: ml-100k/u2.test         \n",
            "  inflating: ml-100k/u3.base         \n",
            "  inflating: ml-100k/u3.test         \n",
            "  inflating: ml-100k/u4.base         \n",
            "  inflating: ml-100k/u4.test         \n",
            "  inflating: ml-100k/u5.base         \n",
            "  inflating: ml-100k/u5.test         \n",
            "  inflating: ml-100k/ua.base         \n",
            "  inflating: ml-100k/ua.test         \n",
            "  inflating: ml-100k/ub.base         \n",
            "  inflating: ml-100k/ub.test         \n",
            "ml-100k  ml-100k.zip  sample_data\n"
          ],
          "name": "stdout"
        }
      ]
    },
    {
      "cell_type": "code",
      "metadata": {
        "id": "39WoF7Whu8qn",
        "colab_type": "code",
        "colab": {
          "base_uri": "https://localhost:8080/",
          "height": 343
        },
        "outputId": "4a66a4c4-34e2-4887-c469-4ac4b59f64cb"
      },
      "source": [
        "!wget \"http://files.grouplens.org/datasets/movielens/ml-1m.zip\"\n",
        "!unzip ml-1m.zip\n",
        "!ls"
      ],
      "execution_count": 2,
      "outputs": [
        {
          "output_type": "stream",
          "text": [
            "--2020-08-09 10:21:24--  http://files.grouplens.org/datasets/movielens/ml-1m.zip\n",
            "Resolving files.grouplens.org (files.grouplens.org)... 128.101.65.152\n",
            "Connecting to files.grouplens.org (files.grouplens.org)|128.101.65.152|:80... connected.\n",
            "HTTP request sent, awaiting response... 200 OK\n",
            "Length: 5917549 (5.6M) [application/zip]\n",
            "Saving to: ‘ml-1m.zip’\n",
            "\n",
            "\rml-1m.zip             0%[                    ]       0  --.-KB/s               \rml-1m.zip           100%[===================>]   5.64M  30.3MB/s    in 0.2s    \n",
            "\n",
            "2020-08-09 10:21:25 (30.3 MB/s) - ‘ml-1m.zip’ saved [5917549/5917549]\n",
            "\n",
            "Archive:  ml-1m.zip\n",
            "   creating: ml-1m/\n",
            "  inflating: ml-1m/movies.dat        \n",
            "  inflating: ml-1m/ratings.dat       \n",
            "  inflating: ml-1m/README            \n",
            "  inflating: ml-1m/users.dat         \n",
            "ml-100k  ml-100k.zip  ml-1m  ml-1m.zip\tsample_data\n"
          ],
          "name": "stdout"
        }
      ]
    },
    {
      "cell_type": "code",
      "metadata": {
        "id": "kZhIJOzCu8wo",
        "colab_type": "code",
        "colab": {}
      },
      "source": [
        "import numpy as np\n",
        "import pandas as pd\n",
        "import torch\n",
        "import torch.nn as nn\n",
        "import torch.nn.parallel\n",
        "import torch.optim as optim\n",
        "import torch.utils.data\n",
        "from torch.autograd import Variable"
      ],
      "execution_count": 3,
      "outputs": []
    },
    {
      "cell_type": "code",
      "metadata": {
        "id": "5AFNjlwQu81M",
        "colab_type": "code",
        "colab": {}
      },
      "source": [
        "# We won't be using this dataset.\n",
        "movies = pd.read_csv('ml-1m/movies.dat', sep = '::', header = None, engine = 'python', encoding = 'latin-1')\n",
        "users = pd.read_csv('ml-1m/users.dat', sep = '::', header = None, engine = 'python', encoding = 'latin-1')\n",
        "ratings = pd.read_csv('ml-1m/ratings.dat', sep = '::', header = None, engine = 'python', encoding = 'latin-1')"
      ],
      "execution_count": 4,
      "outputs": []
    },
    {
      "cell_type": "code",
      "metadata": {
        "id": "-BfwssLzu842",
        "colab_type": "code",
        "colab": {}
      },
      "source": [
        "training_set = pd.read_csv('ml-100k/u1.base', delimiter = '\\t')\n",
        "training_set = np.array(training_set, dtype = 'int')\n",
        "test_set = pd.read_csv('ml-100k/u1.test', delimiter = '\\t')\n",
        "test_set = np.array(test_set, dtype = 'int')"
      ],
      "execution_count": 5,
      "outputs": []
    },
    {
      "cell_type": "code",
      "metadata": {
        "id": "oS02IOyTu8-T",
        "colab_type": "code",
        "colab": {}
      },
      "source": [
        "nb_users = int(max(max(training_set[:, 0], ), max(test_set[:, 0])))\n",
        "nb_movies = int(max(max(training_set[:, 1], ), max(test_set[:, 1])))"
      ],
      "execution_count": 6,
      "outputs": []
    },
    {
      "cell_type": "code",
      "metadata": {
        "id": "7X7OXpOVu9A_",
        "colab_type": "code",
        "colab": {}
      },
      "source": [
        "def convert(data):\n",
        "  new_data = []\n",
        "  for id_users in range(1, nb_users + 1):\n",
        "    id_movies = data[:, 1] [data[:, 0] == id_users]\n",
        "    id_ratings = data[:, 2] [data[:, 0] == id_users]\n",
        "    ratings = np.zeros(nb_movies)\n",
        "    ratings[id_movies - 1] = id_ratings\n",
        "    new_data.append(list(ratings))\n",
        "  return new_data\n",
        "training_set = convert(training_set)\n",
        "test_set = convert(test_set)"
      ],
      "execution_count": 7,
      "outputs": []
    },
    {
      "cell_type": "code",
      "metadata": {
        "id": "jxA_pCLHu9Gp",
        "colab_type": "code",
        "colab": {}
      },
      "source": [
        "training_set = torch.FloatTensor(training_set)\n",
        "test_set = torch.FloatTensor(test_set)"
      ],
      "execution_count": 8,
      "outputs": []
    },
    {
      "cell_type": "code",
      "metadata": {
        "id": "hrWY06KRu9Ke",
        "colab_type": "code",
        "colab": {}
      },
      "source": [
        "class SAE(nn.Module):\n",
        "\n",
        "    def __init__(self, ):\n",
        "        super(SAE, self).__init__()\n",
        "        self.fc1 = nn.Linear(nb_movies, 20)\n",
        "        self.fc2 = nn.Linear(20, 10)\n",
        "        self.fc3 = nn.Linear(10, 20)\n",
        "        self.fc4 = nn.Linear(20, nb_movies)\n",
        "        self.activation = nn.Sigmoid()\n",
        "\n",
        "    def forward(self, x):\n",
        "        x = self.activation(self.fc1(x))\n",
        "        x = self.activation(self.fc2(x))\n",
        "        x = self.activation(self.fc3(x))\n",
        "        x = self.fc4(x)\n",
        "\n",
        "        return x\n",
        "        \n",
        "sae = SAE()\n",
        "criterion = nn.MSELoss()\n",
        "optimizer = optim.RMSprop(sae.parameters(), lr = 0.01, weight_decay = 0.5)"
      ],
      "execution_count": 9,
      "outputs": []
    },
    {
      "cell_type": "code",
      "metadata": {
        "id": "gfHnNqScu9PH",
        "colab_type": "code",
        "colab": {
          "base_uri": "https://localhost:8080/",
          "height": 1000
        },
        "outputId": "eac04a99-b746-4f12-f9c5-9af4f4d036d3"
      },
      "source": [
        "nb_epoch = 200\n",
        "for epoch in range(1, nb_epoch + 1):\n",
        "  train_loss = 0\n",
        "  s = 0.\n",
        "  for id_user in range(nb_users):\n",
        "    input = Variable(training_set[id_user]).unsqueeze(0)\n",
        "    target = input.clone()\n",
        "    if torch.sum(target.data > 0) > 0:\n",
        "      output = sae(input)\n",
        "      target.require_grad = False\n",
        "      output[target == 0] = 0\n",
        "      loss = criterion(output, target)\n",
        "      mean_corrector = nb_movies/float(torch.sum(target.data > 0) + 1e-10)\n",
        "      loss.backward()\n",
        "      train_loss += np.sqrt(loss.data*mean_corrector)\n",
        "      s += 1.\n",
        "      optimizer.step()\n",
        "  print('epoch: '+str(epoch)+'loss: '+ str(train_loss/s))"
      ],
      "execution_count": 10,
      "outputs": [
        {
          "output_type": "stream",
          "text": [
            "epoch: 1loss: tensor(1.7713)\n",
            "epoch: 2loss: tensor(1.0967)\n",
            "epoch: 3loss: tensor(1.0532)\n",
            "epoch: 4loss: tensor(1.0383)\n",
            "epoch: 5loss: tensor(1.0310)\n",
            "epoch: 6loss: tensor(1.0264)\n",
            "epoch: 7loss: tensor(1.0238)\n",
            "epoch: 8loss: tensor(1.0217)\n",
            "epoch: 9loss: tensor(1.0207)\n",
            "epoch: 10loss: tensor(1.0197)\n",
            "epoch: 11loss: tensor(1.0189)\n",
            "epoch: 12loss: tensor(1.0182)\n",
            "epoch: 13loss: tensor(1.0181)\n",
            "epoch: 14loss: tensor(1.0176)\n",
            "epoch: 15loss: tensor(1.0172)\n",
            "epoch: 16loss: tensor(1.0170)\n",
            "epoch: 17loss: tensor(1.0166)\n",
            "epoch: 18loss: tensor(1.0165)\n",
            "epoch: 19loss: tensor(1.0164)\n",
            "epoch: 20loss: tensor(1.0160)\n",
            "epoch: 21loss: tensor(1.0160)\n",
            "epoch: 22loss: tensor(1.0159)\n",
            "epoch: 23loss: tensor(1.0158)\n",
            "epoch: 24loss: tensor(1.0158)\n",
            "epoch: 25loss: tensor(1.0154)\n",
            "epoch: 26loss: tensor(1.0157)\n",
            "epoch: 27loss: tensor(1.0153)\n",
            "epoch: 28loss: tensor(1.0151)\n",
            "epoch: 29loss: tensor(1.0129)\n",
            "epoch: 30loss: tensor(1.0115)\n",
            "epoch: 31loss: tensor(1.0113)\n",
            "epoch: 32loss: tensor(1.0084)\n",
            "epoch: 33loss: tensor(1.0089)\n",
            "epoch: 34loss: tensor(1.0044)\n",
            "epoch: 35loss: tensor(1.0032)\n",
            "epoch: 36loss: tensor(0.9993)\n",
            "epoch: 37loss: tensor(1.0012)\n",
            "epoch: 38loss: tensor(0.9963)\n",
            "epoch: 39loss: tensor(0.9951)\n",
            "epoch: 40loss: tensor(0.9943)\n",
            "epoch: 41loss: tensor(0.9937)\n",
            "epoch: 42loss: tensor(0.9905)\n",
            "epoch: 43loss: tensor(0.9902)\n",
            "epoch: 44loss: tensor(0.9858)\n",
            "epoch: 45loss: tensor(0.9855)\n",
            "epoch: 46loss: tensor(0.9838)\n",
            "epoch: 47loss: tensor(0.9803)\n",
            "epoch: 48loss: tensor(0.9778)\n",
            "epoch: 49loss: tensor(0.9823)\n",
            "epoch: 50loss: tensor(0.9786)\n",
            "epoch: 51loss: tensor(0.9785)\n",
            "epoch: 52loss: tensor(0.9790)\n",
            "epoch: 53loss: tensor(0.9714)\n",
            "epoch: 54loss: tensor(0.9651)\n",
            "epoch: 55loss: tensor(0.9654)\n",
            "epoch: 56loss: tensor(0.9657)\n",
            "epoch: 57loss: tensor(0.9665)\n",
            "epoch: 58loss: tensor(0.9645)\n",
            "epoch: 59loss: tensor(0.9695)\n",
            "epoch: 60loss: tensor(0.9663)\n",
            "epoch: 61loss: tensor(0.9630)\n",
            "epoch: 62loss: tensor(0.9608)\n",
            "epoch: 63loss: tensor(0.9592)\n",
            "epoch: 64loss: tensor(0.9554)\n",
            "epoch: 65loss: tensor(0.9543)\n",
            "epoch: 66loss: tensor(0.9535)\n",
            "epoch: 67loss: tensor(0.9523)\n",
            "epoch: 68loss: tensor(0.9485)\n",
            "epoch: 69loss: tensor(0.9514)\n",
            "epoch: 70loss: tensor(0.9479)\n",
            "epoch: 71loss: tensor(0.9504)\n",
            "epoch: 72loss: tensor(0.9452)\n",
            "epoch: 73loss: tensor(0.9457)\n",
            "epoch: 74loss: tensor(0.9436)\n",
            "epoch: 75loss: tensor(0.9454)\n",
            "epoch: 76loss: tensor(0.9425)\n",
            "epoch: 77loss: tensor(0.9446)\n",
            "epoch: 78loss: tensor(0.9411)\n",
            "epoch: 79loss: tensor(0.9433)\n",
            "epoch: 80loss: tensor(0.9417)\n",
            "epoch: 81loss: tensor(0.9425)\n",
            "epoch: 82loss: tensor(0.9414)\n",
            "epoch: 83loss: tensor(0.9407)\n",
            "epoch: 84loss: tensor(0.9385)\n",
            "epoch: 85loss: tensor(0.9390)\n",
            "epoch: 86loss: tensor(0.9373)\n",
            "epoch: 87loss: tensor(0.9386)\n",
            "epoch: 88loss: tensor(0.9363)\n",
            "epoch: 89loss: tensor(0.9380)\n",
            "epoch: 90loss: tensor(0.9349)\n",
            "epoch: 91loss: tensor(0.9373)\n",
            "epoch: 92loss: tensor(0.9348)\n",
            "epoch: 93loss: tensor(0.9355)\n",
            "epoch: 94loss: tensor(0.9335)\n",
            "epoch: 95loss: tensor(0.9349)\n",
            "epoch: 96loss: tensor(0.9331)\n",
            "epoch: 97loss: tensor(0.9343)\n",
            "epoch: 98loss: tensor(0.9324)\n",
            "epoch: 99loss: tensor(0.9328)\n",
            "epoch: 100loss: tensor(0.9318)\n",
            "epoch: 101loss: tensor(0.9328)\n",
            "epoch: 102loss: tensor(0.9315)\n",
            "epoch: 103loss: tensor(0.9320)\n",
            "epoch: 104loss: tensor(0.9312)\n",
            "epoch: 105loss: tensor(0.9317)\n",
            "epoch: 106loss: tensor(0.9302)\n",
            "epoch: 107loss: tensor(0.9302)\n",
            "epoch: 108loss: tensor(0.9298)\n",
            "epoch: 109loss: tensor(0.9301)\n",
            "epoch: 110loss: tensor(0.9293)\n",
            "epoch: 111loss: tensor(0.9296)\n",
            "epoch: 112loss: tensor(0.9287)\n",
            "epoch: 113loss: tensor(0.9287)\n",
            "epoch: 114loss: tensor(0.9280)\n",
            "epoch: 115loss: tensor(0.9288)\n",
            "epoch: 116loss: tensor(0.9274)\n",
            "epoch: 117loss: tensor(0.9281)\n",
            "epoch: 118loss: tensor(0.9269)\n",
            "epoch: 119loss: tensor(0.9272)\n",
            "epoch: 120loss: tensor(0.9261)\n",
            "epoch: 121loss: tensor(0.9268)\n",
            "epoch: 122loss: tensor(0.9256)\n",
            "epoch: 123loss: tensor(0.9264)\n",
            "epoch: 124loss: tensor(0.9253)\n",
            "epoch: 125loss: tensor(0.9259)\n",
            "epoch: 126loss: tensor(0.9248)\n",
            "epoch: 127loss: tensor(0.9249)\n",
            "epoch: 128loss: tensor(0.9241)\n",
            "epoch: 129loss: tensor(0.9250)\n",
            "epoch: 130loss: tensor(0.9240)\n",
            "epoch: 131loss: tensor(0.9239)\n",
            "epoch: 132loss: tensor(0.9233)\n",
            "epoch: 133loss: tensor(0.9239)\n",
            "epoch: 134loss: tensor(0.9229)\n",
            "epoch: 135loss: tensor(0.9233)\n",
            "epoch: 136loss: tensor(0.9226)\n",
            "epoch: 137loss: tensor(0.9230)\n",
            "epoch: 138loss: tensor(0.9221)\n",
            "epoch: 139loss: tensor(0.9223)\n",
            "epoch: 140loss: tensor(0.9217)\n",
            "epoch: 141loss: tensor(0.9220)\n",
            "epoch: 142loss: tensor(0.9215)\n",
            "epoch: 143loss: tensor(0.9214)\n",
            "epoch: 144loss: tensor(0.9206)\n",
            "epoch: 145loss: tensor(0.9209)\n",
            "epoch: 146loss: tensor(0.9219)\n",
            "epoch: 147loss: tensor(0.9217)\n",
            "epoch: 148loss: tensor(0.9199)\n",
            "epoch: 149loss: tensor(0.9202)\n",
            "epoch: 150loss: tensor(0.9196)\n",
            "epoch: 151loss: tensor(0.9199)\n",
            "epoch: 152loss: tensor(0.9193)\n",
            "epoch: 153loss: tensor(0.9194)\n",
            "epoch: 154loss: tensor(0.9188)\n",
            "epoch: 155loss: tensor(0.9189)\n",
            "epoch: 156loss: tensor(0.9182)\n",
            "epoch: 157loss: tensor(0.9183)\n",
            "epoch: 158loss: tensor(0.9178)\n",
            "epoch: 159loss: tensor(0.9179)\n",
            "epoch: 160loss: tensor(0.9175)\n",
            "epoch: 161loss: tensor(0.9177)\n",
            "epoch: 162loss: tensor(0.9174)\n",
            "epoch: 163loss: tensor(0.9174)\n",
            "epoch: 164loss: tensor(0.9170)\n",
            "epoch: 165loss: tensor(0.9170)\n",
            "epoch: 166loss: tensor(0.9168)\n",
            "epoch: 167loss: tensor(0.9167)\n",
            "epoch: 168loss: tensor(0.9164)\n",
            "epoch: 169loss: tensor(0.9164)\n",
            "epoch: 170loss: tensor(0.9162)\n",
            "epoch: 171loss: tensor(0.9161)\n",
            "epoch: 172loss: tensor(0.9156)\n",
            "epoch: 173loss: tensor(0.9159)\n",
            "epoch: 174loss: tensor(0.9155)\n",
            "epoch: 175loss: tensor(0.9153)\n",
            "epoch: 176loss: tensor(0.9152)\n",
            "epoch: 177loss: tensor(0.9149)\n",
            "epoch: 178loss: tensor(0.9146)\n",
            "epoch: 179loss: tensor(0.9147)\n",
            "epoch: 180loss: tensor(0.9147)\n",
            "epoch: 181loss: tensor(0.9145)\n",
            "epoch: 182loss: tensor(0.9143)\n",
            "epoch: 183loss: tensor(0.9143)\n",
            "epoch: 184loss: tensor(0.9142)\n",
            "epoch: 185loss: tensor(0.9140)\n",
            "epoch: 186loss: tensor(0.9138)\n",
            "epoch: 187loss: tensor(0.9138)\n",
            "epoch: 188loss: tensor(0.9134)\n",
            "epoch: 189loss: tensor(0.9136)\n",
            "epoch: 190loss: tensor(0.9135)\n",
            "epoch: 191loss: tensor(0.9133)\n",
            "epoch: 192loss: tensor(0.9131)\n",
            "epoch: 193loss: tensor(0.9131)\n",
            "epoch: 194loss: tensor(0.9128)\n",
            "epoch: 195loss: tensor(0.9130)\n",
            "epoch: 196loss: tensor(0.9128)\n",
            "epoch: 197loss: tensor(0.9127)\n",
            "epoch: 198loss: tensor(0.9123)\n",
            "epoch: 199loss: tensor(0.9124)\n",
            "epoch: 200loss: tensor(0.9121)\n"
          ],
          "name": "stdout"
        }
      ]
    },
    {
      "cell_type": "code",
      "metadata": {
        "id": "otuAtXwGu9EM",
        "colab_type": "code",
        "colab": {
          "base_uri": "https://localhost:8080/",
          "height": 34
        },
        "outputId": "64b11aec-5b91-41ff-e54b-50f87b491539"
      },
      "source": [
        "test_loss = 0\n",
        "s = 0.\n",
        "for id_user in range(nb_users):\n",
        "  input = Variable(training_set[id_user]).unsqueeze(0)\n",
        "  target = Variable(test_set[id_user]).unsqueeze(0)\n",
        "  if torch.sum(target.data > 0) > 0:\n",
        "    output = sae(input)\n",
        "    target.require_grad = False\n",
        "    output[target == 0] = 0\n",
        "    loss = criterion(output, target)\n",
        "    mean_corrector = nb_movies/float(torch.sum(target.data > 0) + 1e-10)\n",
        "    test_loss += np.sqrt(loss.data*mean_corrector)\n",
        "    s += 1.\n",
        "print('test loss: '+str(test_loss/s))"
      ],
      "execution_count": 13,
      "outputs": [
        {
          "output_type": "stream",
          "text": [
            "test loss: tensor(0.9496)\n"
          ],
          "name": "stdout"
        }
      ]
    }
  ]
}